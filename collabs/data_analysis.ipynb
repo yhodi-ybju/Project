{
  "nbformat": 4,
  "nbformat_minor": 0,
  "metadata": {
    "colab": {
      "provenance": []
    },
    "kernelspec": {
      "name": "python3",
      "display_name": "Python 3"
    },
    "language_info": {
      "name": "python"
    }
  },
  "cells": [
    {
      "cell_type": "code",
      "source": [
        "!pip install pandas matplotlib chardet"
      ],
      "metadata": {
        "colab": {
          "base_uri": "https://localhost:8080/"
        },
        "id": "H5XTlS7VbqnM",
        "outputId": "0f51cb32-59ef-45a2-b0bb-10b2423e34cb"
      },
      "execution_count": null,
      "outputs": [
        {
          "output_type": "stream",
          "name": "stdout",
          "text": [
            "Requirement already satisfied: pandas in /usr/local/lib/python3.10/dist-packages (2.0.3)\n",
            "Requirement already satisfied: matplotlib in /usr/local/lib/python3.10/dist-packages (3.7.1)\n",
            "Requirement already satisfied: chardet in /usr/local/lib/python3.10/dist-packages (5.2.0)\n",
            "Requirement already satisfied: python-dateutil>=2.8.2 in /usr/local/lib/python3.10/dist-packages (from pandas) (2.8.2)\n",
            "Requirement already satisfied: pytz>=2020.1 in /usr/local/lib/python3.10/dist-packages (from pandas) (2023.4)\n",
            "Requirement already satisfied: tzdata>=2022.1 in /usr/local/lib/python3.10/dist-packages (from pandas) (2024.1)\n",
            "Requirement already satisfied: numpy>=1.21.0 in /usr/local/lib/python3.10/dist-packages (from pandas) (1.25.2)\n",
            "Requirement already satisfied: contourpy>=1.0.1 in /usr/local/lib/python3.10/dist-packages (from matplotlib) (1.2.1)\n",
            "Requirement already satisfied: cycler>=0.10 in /usr/local/lib/python3.10/dist-packages (from matplotlib) (0.12.1)\n",
            "Requirement already satisfied: fonttools>=4.22.0 in /usr/local/lib/python3.10/dist-packages (from matplotlib) (4.53.1)\n",
            "Requirement already satisfied: kiwisolver>=1.0.1 in /usr/local/lib/python3.10/dist-packages (from matplotlib) (1.4.5)\n",
            "Requirement already satisfied: packaging>=20.0 in /usr/local/lib/python3.10/dist-packages (from matplotlib) (24.1)\n",
            "Requirement already satisfied: pillow>=6.2.0 in /usr/local/lib/python3.10/dist-packages (from matplotlib) (9.4.0)\n",
            "Requirement already satisfied: pyparsing>=2.3.1 in /usr/local/lib/python3.10/dist-packages (from matplotlib) (3.1.2)\n",
            "Requirement already satisfied: six>=1.5 in /usr/local/lib/python3.10/dist-packages (from python-dateutil>=2.8.2->pandas) (1.16.0)\n"
          ]
        }
      ]
    },
    {
      "cell_type": "code",
      "execution_count": null,
      "metadata": {
        "id": "RmaoAxWpak8r"
      },
      "outputs": [],
      "source": [
        "import pandas as pd\n",
        "import matplotlib.pyplot as plt\n",
        "import chardet"
      ]
    },
    {
      "cell_type": "code",
      "source": [
        "def detect_encoding(file_path):\n",
        "    with open(file_path, 'rb') as f:\n",
        "        result = chardet.detect(f.read(10000))\n",
        "    return result['encoding']\n",
        "\n",
        "files = ['ft_balance_f.csv', 'ft_posting_f.csv', 'md_account_d.csv', 'md_currency_d.csv', 'md_exchange_rate_d.csv', 'md_ledger_account_s.csv']\n",
        "encodings = {file: detect_encoding(file) for file in files}\n",
        "print(encodings)"
      ],
      "metadata": {
        "colab": {
          "base_uri": "https://localhost:8080/"
        },
        "id": "loGF_ICrc1Im",
        "outputId": "ac511b95-cb21-4cfe-ce7d-fe5a9f6e4acd"
      },
      "execution_count": null,
      "outputs": [
        {
          "output_type": "stream",
          "name": "stdout",
          "text": [
            "{'ft_balance_f.csv': 'ascii', 'ft_posting_f.csv': 'ascii', 'md_account_d.csv': 'utf-8', 'md_currency_d.csv': 'Windows-1252', 'md_exchange_rate_d.csv': 'ascii', 'md_ledger_account_s.csv': 'utf-8'}\n"
          ]
        }
      ]
    },
    {
      "cell_type": "code",
      "source": [
        "ft_balance_f = pd.read_csv('ft_balance_f.csv', sep=';', parse_dates=['ON_DATE'], dayfirst=True, encoding=encodings['ft_balance_f.csv'])\n",
        "ft_posting_f = pd.read_csv('ft_posting_f.csv', sep=';', parse_dates=['OPER_DATE'], dayfirst=True, encoding=encodings['ft_posting_f.csv'])\n",
        "md_account_d = pd.read_csv('md_account_d.csv', sep=';', parse_dates=['DATA_ACTUAL_DATE', 'DATA_ACTUAL_END_DATE'], encoding=encodings['md_account_d.csv'])\n",
        "md_currency_d = pd.read_csv('md_currency_d.csv', sep=';', parse_dates=['DATA_ACTUAL_DATE', 'DATA_ACTUAL_END_DATE'], encoding=encodings['md_currency_d.csv'])\n",
        "md_exchange_rate_d = pd.read_csv('md_exchange_rate_d.csv', sep=';', parse_dates=['DATA_ACTUAL_DATE', 'DATA_ACTUAL_END_DATE'], encoding=encodings['md_exchange_rate_d.csv'])\n",
        "md_ledger_account_s = pd.read_csv('md_ledger_account_s.csv', sep=';', parse_dates=['START_DATE', 'END_DATE'], encoding=encodings['md_ledger_account_s.csv'])"
      ],
      "metadata": {
        "id": "K4604frubvho"
      },
      "execution_count": null,
      "outputs": []
    },
    {
      "cell_type": "code",
      "source": [
        "print(ft_balance_f.head())"
      ],
      "metadata": {
        "colab": {
          "base_uri": "https://localhost:8080/"
        },
        "id": "_Wy6--GKb9xs",
        "outputId": "de4a8e28-13bd-4e9c-874b-1fe04d9751b8"
      },
      "execution_count": null,
      "outputs": [
        {
          "output_type": "stream",
          "name": "stdout",
          "text": [
            "     ON_DATE  ACCOUNT_RK  CURRENCY_RK  BALANCE_OUT\n",
            "0 2017-12-31    36237725           35     38318.13\n",
            "1 2017-12-31       24656           35     80533.62\n",
            "2 2017-12-31    18849846           34     63891.96\n",
            "3 2017-12-31     1972647           34   5087732.10\n",
            "4 2017-12-31    34157174           34   7097806.90\n"
          ]
        }
      ]
    },
    {
      "cell_type": "code",
      "source": [
        "print(ft_posting_f.head())"
      ],
      "metadata": {
        "colab": {
          "base_uri": "https://localhost:8080/"
        },
        "id": "kbPGRKHpb-8R",
        "outputId": "c87a0061-3785-48ec-a970-013ae957a84c"
      },
      "execution_count": null,
      "outputs": [
        {
          "output_type": "stream",
          "name": "stdout",
          "text": [
            "   OPER_DATE  CREDIT_ACCOUNT_RK  DEBET_ACCOUNT_RK  CREDIT_AMOUNT  DEBET_AMOUNT\n",
            "0 2018-01-09              13630             17436       94333.93      18337.76\n",
            "1 2018-01-09           15698716             13630       68294.14      31542.06\n",
            "2 2018-01-09           12048338             13630        2192.96      98734.33\n",
            "3 2018-01-09          393808409             17244       44179.86      98544.65\n",
            "4 2018-01-09          409685020             13630       18843.05        889.74\n"
          ]
        }
      ]
    },
    {
      "cell_type": "code",
      "source": [
        "print(md_account_d.head())"
      ],
      "metadata": {
        "colab": {
          "base_uri": "https://localhost:8080/"
        },
        "id": "7CPAsbIccBkl",
        "outputId": "8bb9df64-37a4-4689-adf4-5aaaef1bd120"
      },
      "execution_count": null,
      "outputs": [
        {
          "output_type": "stream",
          "name": "stdout",
          "text": [
            "  DATA_ACTUAL_DATE DATA_ACTUAL_END_DATE  ACCOUNT_RK        ACCOUNT_NUMBER  \\\n",
            "0       2018-01-01           2018-01-31    36237725  30425840700000583001   \n",
            "1       2018-01-01           2018-01-31       24656  30114840700000770002   \n",
            "2       2018-01-01           2018-01-31    18849846  30109810500000435003   \n",
            "3       2018-01-01           2018-01-31     1972647  30111810700000908001   \n",
            "4       2018-01-01           2018-01-31    34157174  30424810100000583001   \n",
            "\n",
            "  CHAR_TYPE  CURRENCY_RK  CURRENCY_CODE  \n",
            "0         А           35            840  \n",
            "1         А           35            840  \n",
            "2         П           34            643  \n",
            "3         П           34            643  \n",
            "4         А           34            643  \n"
          ]
        }
      ]
    },
    {
      "cell_type": "code",
      "source": [
        "print(md_currency_d.head())"
      ],
      "metadata": {
        "colab": {
          "base_uri": "https://localhost:8080/"
        },
        "id": "XlYDlIHTcDs4",
        "outputId": "afdec86e-7908-40ec-f8b3-7c6a3892924c"
      },
      "execution_count": null,
      "outputs": [
        {
          "output_type": "stream",
          "name": "stdout",
          "text": [
            "   CURRENCY_RK DATA_ACTUAL_DATE DATA_ACTUAL_END_DATE  CURRENCY_CODE  \\\n",
            "0      4586704       2011-09-06           2050-12-31            0.0   \n",
            "1           50       2017-05-11           2050-12-31          356.0   \n",
            "2           51       2017-05-11           2050-12-31          484.0   \n",
            "3           52       2017-05-11           2050-12-31          434.0   \n",
            "4           53       2017-05-11           2050-12-31          422.0   \n",
            "\n",
            "  CODE_ISO_CHAR  \n",
            "0           NON  \n",
            "1           INR  \n",
            "2           MXN  \n",
            "3           LYD  \n",
            "4           LBR  \n"
          ]
        }
      ]
    },
    {
      "cell_type": "code",
      "source": [
        "print(md_exchange_rate_d.head())"
      ],
      "metadata": {
        "colab": {
          "base_uri": "https://localhost:8080/"
        },
        "id": "LRldBudVcG9J",
        "outputId": "5b43e398-25b3-47b0-c7d9-d4950f3f1dde"
      },
      "execution_count": null,
      "outputs": [
        {
          "output_type": "stream",
          "name": "stdout",
          "text": [
            "  DATA_ACTUAL_DATE DATA_ACTUAL_END_DATE  CURRENCY_RK  REDUCED_COURCE  \\\n",
            "0       2016-07-01           2050-12-31           38        31.88840   \n",
            "1       2018-01-31           2018-01-31    427870281        28.37980   \n",
            "2       2018-01-31           2018-01-31           29         7.11613   \n",
            "3       2018-01-31           2018-01-31    529511970        33.05430   \n",
            "4       2018-01-31           2018-01-31           62         8.87555   \n",
            "\n",
            "   CODE_ISO_NUM  \n",
            "0           974  \n",
            "1           933  \n",
            "2           752  \n",
            "3           944  \n",
            "4           156  \n"
          ]
        }
      ]
    },
    {
      "cell_type": "code",
      "source": [
        "print(md_ledger_account_s.head())"
      ],
      "metadata": {
        "colab": {
          "base_uri": "https://localhost:8080/"
        },
        "id": "flNA80nlfdJt",
        "outputId": "5aeaba18-98c2-476d-9d1f-f2af7c9b3c70"
      },
      "execution_count": null,
      "outputs": [
        {
          "output_type": "stream",
          "name": "stdout",
          "text": [
            "  CHAPTER      CHAPTER_NAME  SECTION_NUMBER            SECTION_NAME  \\\n",
            "0       А  Балансовые счета               3  МЕЖБАНКОВСКИЕ ОПЕРАЦИИ   \n",
            "1       А  Балансовые счета               3  МЕЖБАНКОВСКИЕ ОПЕРАЦИИ   \n",
            "2       А  Балансовые счета               3  МЕЖБАНКОВСКИЕ ОПЕРАЦИИ   \n",
            "3       А  Балансовые счета               3  МЕЖБАНКОВСКИЕ ОПЕРАЦИИ   \n",
            "4       А  Балансовые счета               3  МЕЖБАНКОВСКИЕ ОПЕРАЦИИ   \n",
            "\n",
            "         SUBSECTION_NAME  LEDGER1_ACCOUNT  \\\n",
            "0  МЕЖБАНКОВСКИЕ РАСЧЕТЫ              302   \n",
            "1  МЕЖБАНКОВСКИЕ РАСЧЕТЫ              301   \n",
            "2  МЕЖБАНКОВСКИЕ РАСЧЕТЫ              301   \n",
            "3  МЕЖБАНКОВСКИЕ РАСЧЕТЫ              301   \n",
            "4  МЕЖБАНКОВСКИЕ РАСЧЕТЫ              301   \n",
            "\n",
            "                              LEDGER1_ACCOUNT_NAME  LEDGER_ACCOUNT  \\\n",
            "0  Счета кредитных организаций по другим операциям           30204   \n",
            "1                          Корреспондентские счета           30109   \n",
            "2                          Корреспондентские счета           30110   \n",
            "3                          Корреспондентские счета           30111   \n",
            "4                          Корреспондентские счета           30126   \n",
            "\n",
            "                                 LEDGER_ACCOUNT_NAME CHARACTERISTIC  \\\n",
            "0  Обязательные резервы кредитных организаций по ...              А   \n",
            "1  Корреспондентские счета кредитных организаций ...              П   \n",
            "2  Корреспондентские счета в кредитных организаци...              А   \n",
            "3       Корреспондентские счета банков- нерезидентов              П   \n",
            "4                        Резервы на возможные потери              П   \n",
            "\n",
            "  START_DATE   END_DATE  \n",
            "0 2014-01-01 2050-12-31  \n",
            "1 2008-01-01 2050-12-31  \n",
            "2 2008-01-01 2050-12-31  \n",
            "3 2008-01-01 2050-12-31  \n",
            "4 2008-01-01 2050-12-31  \n"
          ]
        }
      ]
    },
    {
      "cell_type": "code",
      "source": [
        "print(ft_balance_f.info())"
      ],
      "metadata": {
        "colab": {
          "base_uri": "https://localhost:8080/"
        },
        "id": "gzL8_XFQdUjN",
        "outputId": "94673331-56b6-46ad-d3a1-ba154b98fce5"
      },
      "execution_count": null,
      "outputs": [
        {
          "output_type": "stream",
          "name": "stdout",
          "text": [
            "<class 'pandas.core.frame.DataFrame'>\n",
            "RangeIndex: 114 entries, 0 to 113\n",
            "Data columns (total 4 columns):\n",
            " #   Column       Non-Null Count  Dtype         \n",
            "---  ------       --------------  -----         \n",
            " 0   ON_DATE      114 non-null    datetime64[ns]\n",
            " 1   ACCOUNT_RK   114 non-null    int64         \n",
            " 2   CURRENCY_RK  114 non-null    int64         \n",
            " 3   BALANCE_OUT  114 non-null    float64       \n",
            "dtypes: datetime64[ns](1), float64(1), int64(2)\n",
            "memory usage: 3.7 KB\n",
            "None\n"
          ]
        }
      ]
    },
    {
      "cell_type": "code",
      "source": [
        "print(ft_posting_f.info())"
      ],
      "metadata": {
        "colab": {
          "base_uri": "https://localhost:8080/"
        },
        "id": "RburoIAvd40q",
        "outputId": "ff060fa5-0944-43a0-fd44-ee9538303622"
      },
      "execution_count": null,
      "outputs": [
        {
          "output_type": "stream",
          "name": "stdout",
          "text": [
            "<class 'pandas.core.frame.DataFrame'>\n",
            "RangeIndex: 33892 entries, 0 to 33891\n",
            "Data columns (total 5 columns):\n",
            " #   Column             Non-Null Count  Dtype         \n",
            "---  ------             --------------  -----         \n",
            " 0   OPER_DATE          33892 non-null  datetime64[ns]\n",
            " 1   CREDIT_ACCOUNT_RK  33892 non-null  int64         \n",
            " 2   DEBET_ACCOUNT_RK   33892 non-null  int64         \n",
            " 3   CREDIT_AMOUNT      33892 non-null  float64       \n",
            " 4   DEBET_AMOUNT       33892 non-null  float64       \n",
            "dtypes: datetime64[ns](1), float64(2), int64(2)\n",
            "memory usage: 1.3 MB\n",
            "None\n"
          ]
        }
      ]
    },
    {
      "cell_type": "code",
      "source": [
        "print(md_account_d.info())"
      ],
      "metadata": {
        "colab": {
          "base_uri": "https://localhost:8080/"
        },
        "id": "HcuAnP_Jd7kl",
        "outputId": "ac96c32c-88ca-44ec-84a9-4a9951b52e9c"
      },
      "execution_count": null,
      "outputs": [
        {
          "output_type": "stream",
          "name": "stdout",
          "text": [
            "<class 'pandas.core.frame.DataFrame'>\n",
            "RangeIndex: 112 entries, 0 to 111\n",
            "Data columns (total 7 columns):\n",
            " #   Column                Non-Null Count  Dtype         \n",
            "---  ------                --------------  -----         \n",
            " 0   DATA_ACTUAL_DATE      112 non-null    datetime64[ns]\n",
            " 1   DATA_ACTUAL_END_DATE  112 non-null    datetime64[ns]\n",
            " 2   ACCOUNT_RK            112 non-null    int64         \n",
            " 3   ACCOUNT_NUMBER        112 non-null    object        \n",
            " 4   CHAR_TYPE             112 non-null    object        \n",
            " 5   CURRENCY_RK           112 non-null    int64         \n",
            " 6   CURRENCY_CODE         112 non-null    int64         \n",
            "dtypes: datetime64[ns](2), int64(3), object(2)\n",
            "memory usage: 6.2+ KB\n",
            "None\n"
          ]
        }
      ]
    },
    {
      "cell_type": "code",
      "source": [
        "print(md_currency_d.info())"
      ],
      "metadata": {
        "colab": {
          "base_uri": "https://localhost:8080/"
        },
        "id": "dS5yOhvvd-R4",
        "outputId": "bc2ecf6c-8f44-4358-e9e0-c137b83681d5"
      },
      "execution_count": null,
      "outputs": [
        {
          "output_type": "stream",
          "name": "stdout",
          "text": [
            "<class 'pandas.core.frame.DataFrame'>\n",
            "RangeIndex: 50 entries, 0 to 49\n",
            "Data columns (total 5 columns):\n",
            " #   Column                Non-Null Count  Dtype         \n",
            "---  ------                --------------  -----         \n",
            " 0   CURRENCY_RK           50 non-null     int64         \n",
            " 1   DATA_ACTUAL_DATE      50 non-null     datetime64[ns]\n",
            " 2   DATA_ACTUAL_END_DATE  50 non-null     datetime64[ns]\n",
            " 3   CURRENCY_CODE         49 non-null     float64       \n",
            " 4   CODE_ISO_CHAR         49 non-null     object        \n",
            "dtypes: datetime64[ns](2), float64(1), int64(1), object(1)\n",
            "memory usage: 2.1+ KB\n",
            "None\n"
          ]
        }
      ]
    },
    {
      "cell_type": "code",
      "source": [
        "print(md_exchange_rate_d.info())"
      ],
      "metadata": {
        "colab": {
          "base_uri": "https://localhost:8080/"
        },
        "id": "5PeB33kUeCcn",
        "outputId": "75694ad1-32eb-4215-c7ee-d1344129c2ff"
      },
      "execution_count": null,
      "outputs": [
        {
          "output_type": "stream",
          "name": "stdout",
          "text": [
            "<class 'pandas.core.frame.DataFrame'>\n",
            "RangeIndex: 892 entries, 0 to 891\n",
            "Data columns (total 5 columns):\n",
            " #   Column                Non-Null Count  Dtype         \n",
            "---  ------                --------------  -----         \n",
            " 0   DATA_ACTUAL_DATE      892 non-null    datetime64[ns]\n",
            " 1   DATA_ACTUAL_END_DATE  892 non-null    datetime64[ns]\n",
            " 2   CURRENCY_RK           892 non-null    int64         \n",
            " 3   REDUCED_COURCE        892 non-null    float64       \n",
            " 4   CODE_ISO_NUM          892 non-null    int64         \n",
            "dtypes: datetime64[ns](2), float64(1), int64(2)\n",
            "memory usage: 35.0 KB\n",
            "None\n"
          ]
        }
      ]
    },
    {
      "cell_type": "code",
      "source": [
        "print(md_ledger_account_s.info())"
      ],
      "metadata": {
        "colab": {
          "base_uri": "https://localhost:8080/"
        },
        "id": "H71ckozBfm_c",
        "outputId": "94dc2e4a-dee8-4d87-92c8-058f621d238b"
      },
      "execution_count": null,
      "outputs": [
        {
          "output_type": "stream",
          "name": "stdout",
          "text": [
            "<class 'pandas.core.frame.DataFrame'>\n",
            "RangeIndex: 18 entries, 0 to 17\n",
            "Data columns (total 12 columns):\n",
            " #   Column                Non-Null Count  Dtype         \n",
            "---  ------                --------------  -----         \n",
            " 0   CHAPTER               18 non-null     object        \n",
            " 1   CHAPTER_NAME          18 non-null     object        \n",
            " 2   SECTION_NUMBER        18 non-null     int64         \n",
            " 3   SECTION_NAME          18 non-null     object        \n",
            " 4   SUBSECTION_NAME       18 non-null     object        \n",
            " 5   LEDGER1_ACCOUNT       18 non-null     int64         \n",
            " 6   LEDGER1_ACCOUNT_NAME  18 non-null     object        \n",
            " 7   LEDGER_ACCOUNT        18 non-null     int64         \n",
            " 8   LEDGER_ACCOUNT_NAME   18 non-null     object        \n",
            " 9   CHARACTERISTIC        18 non-null     object        \n",
            " 10  START_DATE            18 non-null     datetime64[ns]\n",
            " 11  END_DATE              18 non-null     datetime64[ns]\n",
            "dtypes: datetime64[ns](2), int64(3), object(7)\n",
            "memory usage: 1.8+ KB\n",
            "None\n"
          ]
        }
      ]
    },
    {
      "cell_type": "code",
      "source": [
        "print(ft_balance_f.describe())"
      ],
      "metadata": {
        "colab": {
          "base_uri": "https://localhost:8080/"
        },
        "id": "9ZOOrvTYeDcF",
        "outputId": "489e230e-3f1f-43e3-e2a6-03b801862a31"
      },
      "execution_count": null,
      "outputs": [
        {
          "output_type": "stream",
          "name": "stdout",
          "text": [
            "                   ON_DATE    ACCOUNT_RK  CURRENCY_RK   BALANCE_OUT\n",
            "count                  114  1.140000e+02   114.000000  1.140000e+02\n",
            "mean   2017-12-31 00:00:00  4.478900e+07    35.578947  3.337505e+06\n",
            "min    2017-12-31 00:00:00  1.356000e+04    21.000000  3.237100e+02\n",
            "25%    2017-12-31 00:00:00  1.413725e+04    34.000000  3.409193e+04\n",
            "50%    2017-12-31 00:00:00  2.306350e+04    34.000000  6.474272e+04\n",
            "75%    2017-12-31 00:00:00  3.415678e+07    35.000000  1.472308e+05\n",
            "max    2017-12-31 00:00:00  4.062758e+08    62.000000  2.000797e+08\n",
            "std                    NaN  9.721176e+07     5.673872  1.948011e+07\n"
          ]
        }
      ]
    },
    {
      "cell_type": "code",
      "source": [
        "print(ft_posting_f.describe())"
      ],
      "metadata": {
        "colab": {
          "base_uri": "https://localhost:8080/"
        },
        "id": "48BJcz4UeJNU",
        "outputId": "795d5d6e-501d-4833-c430-491fc408f2b0"
      },
      "execution_count": null,
      "outputs": [
        {
          "output_type": "stream",
          "name": "stdout",
          "text": [
            "                           OPER_DATE  CREDIT_ACCOUNT_RK  DEBET_ACCOUNT_RK  \\\n",
            "count                          33892       3.389200e+04      3.389200e+04   \n",
            "mean   2018-01-19 06:37:13.164168448       7.188949e+07      7.215462e+07   \n",
            "min              2018-01-09 00:00:00       1.356000e+04      1.355200e+04   \n",
            "25%              2018-01-12 00:00:00       1.363000e+04      1.363000e+04   \n",
            "50%              2018-01-18 00:00:00       1.450700e+04      1.743600e+04   \n",
            "75%              2018-01-25 00:00:00       1.000616e+07      8.736635e+06   \n",
            "max              2018-01-31 00:00:00       5.301008e+08      5.301010e+08   \n",
            "std                              NaN       1.511987e+08      1.527140e+08   \n",
            "\n",
            "       CREDIT_AMOUNT  DEBET_AMOUNT  \n",
            "count   33892.000000  33892.000000  \n",
            "mean    50156.993222  49760.014700  \n",
            "min        14.290000     14.590000  \n",
            "25%     25299.647500  24807.797500  \n",
            "50%     50261.790000  49500.750000  \n",
            "75%     75057.550000  74736.822500  \n",
            "max     99999.430000  99999.820000  \n",
            "std     28825.410347  28826.978202  \n"
          ]
        }
      ]
    },
    {
      "cell_type": "code",
      "source": [
        "print(md_account_d.describe())"
      ],
      "metadata": {
        "colab": {
          "base_uri": "https://localhost:8080/"
        },
        "id": "hNjThYSZeLxH",
        "outputId": "f51e4dd3-3c46-440c-f1fe-89cd6c9c3f01"
      },
      "execution_count": null,
      "outputs": [
        {
          "output_type": "stream",
          "name": "stdout",
          "text": [
            "          DATA_ACTUAL_DATE DATA_ACTUAL_END_DATE    ACCOUNT_RK  CURRENCY_RK  \\\n",
            "count                  112                  112  1.120000e+02   112.000000   \n",
            "mean   2018-01-01 00:00:00  2018-01-31 00:00:00  4.502355e+07    35.607143   \n",
            "min    2018-01-01 00:00:00  2018-01-31 00:00:00  1.356000e+04    21.000000   \n",
            "25%    2018-01-01 00:00:00  2018-01-31 00:00:00  1.413675e+04    34.000000   \n",
            "50%    2018-01-01 00:00:00  2018-01-31 00:00:00  2.218450e+04    34.000000   \n",
            "75%    2018-01-01 00:00:00  2018-01-31 00:00:00  3.415681e+07    35.000000   \n",
            "max    2018-01-01 00:00:00  2018-01-31 00:00:00  4.062758e+08    62.000000   \n",
            "std                    NaN                  NaN  9.806749e+07     5.720765   \n",
            "\n",
            "       CURRENCY_CODE  \n",
            "count     112.000000  \n",
            "mean      736.062500  \n",
            "min       124.000000  \n",
            "25%       643.000000  \n",
            "50%       756.000000  \n",
            "75%       840.000000  \n",
            "max       985.000000  \n",
            "std       186.131082  \n"
          ]
        }
      ]
    },
    {
      "cell_type": "code",
      "source": [
        "print(md_currency_d.describe())"
      ],
      "metadata": {
        "colab": {
          "base_uri": "https://localhost:8080/"
        },
        "id": "Tw4YYpyOeOWH",
        "outputId": "72dd1b9f-bcbe-41fb-e974-bf4ead40790b"
      },
      "execution_count": null,
      "outputs": [
        {
          "output_type": "stream",
          "name": "stdout",
          "text": [
            "        CURRENCY_RK     DATA_ACTUAL_DATE DATA_ACTUAL_END_DATE  CURRENCY_CODE\n",
            "count  5.000000e+01                   50                   50      49.000000\n",
            "mean   4.624987e+07  2017-04-08 02:52:48  2050-12-31 00:00:00     502.122449\n",
            "min    2.100000e+01  2011-09-06 00:00:00  2050-12-31 00:00:00       0.000000\n",
            "25%    3.325000e+01  2017-05-11 00:00:00  2050-12-31 00:00:00     208.000000\n",
            "50%    4.550000e+01  2017-05-11 00:00:00  2050-12-31 00:00:00     434.000000\n",
            "75%    5.775000e+01  2017-05-11 00:00:00  2050-12-31 00:00:00     788.000000\n",
            "max    5.295120e+08  2017-12-12 00:00:00  2050-12-31 00:00:00     999.000000\n",
            "std    1.347192e+08                  NaN                  NaN     329.114065\n"
          ]
        }
      ]
    },
    {
      "cell_type": "code",
      "source": [
        "print(md_exchange_rate_d.describe())"
      ],
      "metadata": {
        "colab": {
          "base_uri": "https://localhost:8080/"
        },
        "id": "2TrMy6BgeQuV",
        "outputId": "00a35c87-b829-4ce4-9086-f87b14148237"
      },
      "execution_count": null,
      "outputs": [
        {
          "output_type": "stream",
          "name": "stdout",
          "text": [
            "                    DATA_ACTUAL_DATE           DATA_ACTUAL_END_DATE  \\\n",
            "count                            892                            892   \n",
            "mean   2018-01-12 10:21:31.479820800  2018-01-30 10:23:08.340806912   \n",
            "min              2016-07-01 00:00:00            2018-01-09 00:00:00   \n",
            "25%              2017-12-30 00:00:00            2018-01-09 00:00:00   \n",
            "50%              2018-01-13 00:00:00            2018-01-15 00:00:00   \n",
            "75%              2018-01-23 00:00:00            2018-01-23 00:00:00   \n",
            "max              2018-01-31 00:00:00            2050-12-31 00:00:00   \n",
            "std                              NaN                            NaN   \n",
            "\n",
            "        CURRENCY_RK  REDUCED_COURCE  CODE_ISO_NUM  \n",
            "count  8.920000e+02      892.000000    892.000000  \n",
            "mean   8.538216e+07       20.507007    556.838565  \n",
            "min    2.100000e+01        0.052472     36.000000  \n",
            "25%    3.500000e+01        0.901376    208.000000  \n",
            "50%    4.300000e+01        8.836820    417.000000  \n",
            "75%    6.200000e+01       35.225200    944.000000  \n",
            "max    5.295120e+08       79.709700    986.000000  \n",
            "std    1.720455e+08       23.324195    340.539532  \n"
          ]
        }
      ]
    },
    {
      "cell_type": "code",
      "source": [
        "print(md_ledger_account_s.describe())"
      ],
      "metadata": {
        "colab": {
          "base_uri": "https://localhost:8080/"
        },
        "id": "7vK9Sug6ftgo",
        "outputId": "bfcc7050-3c16-4b65-ab81-42f1f7bcc0ca"
      },
      "execution_count": null,
      "outputs": [
        {
          "output_type": "stream",
          "name": "stdout",
          "text": [
            "       SECTION_NUMBER  LEDGER1_ACCOUNT  LEDGER_ACCOUNT           START_DATE  \\\n",
            "count            18.0        18.000000       18.000000                   18   \n",
            "mean              3.0       302.000000    30218.166667  2010-08-11 22:40:00   \n",
            "min               3.0       301.000000    30102.000000  2008-01-01 00:00:00   \n",
            "25%               3.0       301.000000    30117.000000  2008-01-01 00:00:00   \n",
            "50%               3.0       302.000000    30220.500000  2008-01-01 00:00:00   \n",
            "75%               3.0       302.000000    30232.750000  2013-10-01 18:00:00   \n",
            "max               3.0       304.000000    30425.000000  2016-01-01 00:00:00   \n",
            "std               0.0         1.028992      106.354153                  NaN   \n",
            "\n",
            "                  END_DATE  \n",
            "count                   18  \n",
            "mean   2050-12-31 00:00:00  \n",
            "min    2050-12-31 00:00:00  \n",
            "25%    2050-12-31 00:00:00  \n",
            "50%    2050-12-31 00:00:00  \n",
            "75%    2050-12-31 00:00:00  \n",
            "max    2050-12-31 00:00:00  \n",
            "std                    NaN  \n"
          ]
        }
      ]
    },
    {
      "cell_type": "code",
      "source": [
        "print(f\"ft_balance_f: {len(ft_balance_f)}\")\n",
        "print(f\"ft_posting_f: {len(ft_posting_f)}\")\n",
        "print(f\"md_account_d: {len(md_account_d)}\")\n",
        "print(f\"md_currency_d: {len(md_currency_d)}\")\n",
        "print(f\"md_exchange_rate_d: {len(md_exchange_rate_d)}\")\n",
        "print(f\"md_ledger_account_s: {len(md_ledger_account_s)}\")"
      ],
      "metadata": {
        "colab": {
          "base_uri": "https://localhost:8080/"
        },
        "id": "6T_e259Tevz-",
        "outputId": "f69321c3-b71a-4262-96eb-c8cc2a823eae"
      },
      "execution_count": null,
      "outputs": [
        {
          "output_type": "stream",
          "name": "stdout",
          "text": [
            "ft_balance_f: 114\n",
            "ft_posting_f: 33892\n",
            "md_account_d: 112\n",
            "md_currency_d: 50\n",
            "md_exchange_rate_d: 892\n",
            "md_ledger_account_s: 18\n"
          ]
        }
      ]
    },
    {
      "cell_type": "code",
      "source": [
        "import csv\n",
        "\n",
        "def count_unique_lines(file_path):\n",
        "    unique_lines = set()\n",
        "\n",
        "    with open(file_path, mode='r', encoding='utf-8') as file:\n",
        "        reader = csv.reader(file)\n",
        "        next(reader)\n",
        "        for row in reader:\n",
        "            unique_lines.add(tuple(row))\n",
        "\n",
        "    return len(unique_lines)"
      ],
      "metadata": {
        "id": "X3yvLXp9tS6I"
      },
      "execution_count": 8,
      "outputs": []
    },
    {
      "cell_type": "code",
      "source": [
        "count = count_unique_lines('md_exchange_rate_d.csv')\n",
        "print(f\"Number of unique lines: {count}\")"
      ],
      "metadata": {
        "colab": {
          "base_uri": "https://localhost:8080/"
        },
        "id": "F5HAJ2rHtWMk",
        "outputId": "823f4320-5726-46cb-a092-8e88d4d9dbfa"
      },
      "execution_count": 9,
      "outputs": [
        {
          "output_type": "stream",
          "name": "stdout",
          "text": [
            "Number of unique lines: 460\n"
          ]
        }
      ]
    }
  ]
}